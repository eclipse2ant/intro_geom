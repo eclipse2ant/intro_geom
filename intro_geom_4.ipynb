{
  "nbformat": 4,
  "nbformat_minor": 0,
  "metadata": {
    "colab": {
      "provenance": [],
      "include_colab_link": true
    },
    "kernelspec": {
      "name": "python3",
      "display_name": "Python 3"
    },
    "language_info": {
      "name": "python"
    }
  },
  "cells": [
    {
      "cell_type": "markdown",
      "metadata": {
        "id": "view-in-github",
        "colab_type": "text"
      },
      "source": [
        "<a href=\"https://colab.research.google.com/github/eclipse2ant/intro_geom/blob/master/intro_geom_4.ipynb\" target=\"_parent\"><img src=\"https://colab.research.google.com/assets/colab-badge.svg\" alt=\"Open In Colab\"/></a>"
      ]
    },
    {
      "cell_type": "markdown",
      "source": [
        "# 4.ユ－クリッド変換群の行列表示と2次曲線への作用\n"
      ],
      "metadata": {
        "id": "igsa7WcC2SC5"
      }
    },
    {
      "cell_type": "markdown",
      "source": [
        "- まず、**[intro_geom-4--euclid_trans.pdf](https://drive.google.com/file/d/1t-Yb7gDx7RdYWlD6ebKpTX0deBeKG8gO/view?usp=share_link)** を見てください。(1) のようにすれば、一次変換だけで書けてしまいます。またユークリッド変換群も行列で書けます。ここで、**IMG_0200.jpg** の(1)にあるような2次曲線をユークリッド変換で分類してみましょう。"
      ],
      "metadata": {
        "id": "22cTZWPtE1NI"
      }
    },
    {
      "cell_type": "markdown",
      "source": [
        "- **IMG_0201.jpg** の(1.2) の3式のように考えます。2次曲線が対称行列で書けて、その変換が両側から $X$ と $X$ の転置で挟むのは線形代数Iで学んだ2次形式の基底による行列表示と基底の変換における変換公式から出ます。"
      ],
      "metadata": {
        "id": "KfA-JUH6HJuY"
      }
    },
    {
      "cell_type": "markdown",
      "source": [
        "- **[intro_geom-4--euclid_trans-2.pdf](https://drive.google.com/file/d/1y6UFMCPk7pz7fiD6AMXEJVal84JlCs3R/view?usp=share_link)** を見てください。"
      ],
      "metadata": {
        "id": "yS1FluUnl3cV"
      }
    }
  ]
}