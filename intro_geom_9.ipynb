{
  "nbformat": 4,
  "nbformat_minor": 0,
  "metadata": {
    "colab": {
      "provenance": [],
      "include_colab_link": true
    },
    "kernelspec": {
      "name": "python3",
      "display_name": "Python 3"
    },
    "language_info": {
      "name": "python"
    }
  },
  "cells": [
    {
      "cell_type": "markdown",
      "metadata": {
        "id": "view-in-github",
        "colab_type": "text"
      },
      "source": [
        "<a href=\"https://colab.research.google.com/github/eclipse2ant/intro_geom/blob/master/intro_geom_9.ipynb\" target=\"_parent\"><img src=\"https://colab.research.google.com/assets/colab-badge.svg\" alt=\"Open In Colab\"/></a>"
      ]
    },
    {
      "cell_type": "markdown",
      "source": [
        "# 9. アフィンスキーム、数論幾何\n"
      ],
      "metadata": {
        "id": "igsa7WcC2SC5"
      }
    },
    {
      "cell_type": "markdown",
      "source": [
        "- 前回は、代数幾何的アプローチを学びました。その際重要なことは、扱う空間そのもではなく。その上の座標環を考えて、その可換環ついて調べるということでした。ここでは、代数幾何から数論をみる、いわゆる数論幾何について触れたいと思います。"
      ],
      "metadata": {
        "id": "BGbgAIh5kjFr"
      }
    },
    {
      "cell_type": "markdown",
      "source": [
        "- ## 9.1. $Z$ と $C[X]$\n"
      ],
      "metadata": {
        "id": "0QGZNeX5yGPl"
      }
    },
    {
      "cell_type": "markdown",
      "source": [
        "- アンドレ・ヴェイユというと、有名な女性思想家、シモーヌ・ヴェイユのお兄さんです。数論を代数幾何学で解こうとしたのは彼であり、それを具体的に実現していったのはグロタンディークのスキーム理論になります。まず整数 $Z$ と 複素係数の多項式全体$C[X]$ の比較から始めましょう。"
      ],
      "metadata": {
        "id": "j6Lv6TlUQGPm"
      }
    },
    {
      "cell_type": "markdown",
      "source": [
        "- 私たちは小学校で数について学びます。整数、足し算、引き算、掛け算、割り算は余りが出ますよね。また引き算はこ和に関しての逆元（すなわち足して０になる数）を足すことでした。これは環という代数的構造です。さらに中学校で式の計算を学びます。このとき整数での学びが生かされます。つまり整数$Z$ と　多項式環$C[X]$ 似たような代数的構造をしています。[arithmetic geom](https://drive.google.com/file/d/1jbxkstraK9OTSugMudQ4DxO9ilW-MAQ3/view?usp=sharing) に書いたように、素因数分解と多項式の一次式への分解（代数学の基本定理）が対応しています。また、多項式における代入という操作は割り算の余りをとる操作に対応しており、逆に勝手な整数$n$ に対して、素数$p$ を**<font color=\"red\">\"代入\"</font>**するという操作を $n \\equiv n(p) ~ mod ~p$ つまり$n$ を$p$ で割った余り$n(p)$ を求めることだとします。今 素数全体を集合を　$M$ だとすると整数$n$ を$M$上の関数と思うことができます。さてこれで　多項式は$C$上の関数、整数$n$ は $M$ 上の関数と思えます。もう少し見方を変えていきます。ここでは関数を層の言葉に置き替えます。層については、後で説明しますが、まず空間$M$ や $C$ に位相構造を定義します。"
      ],
      "metadata": {
        "id": "0nY78oL4Qbrd"
      }
    },
    {
      "cell_type": "markdown",
      "source": [
        "#9.2. ザリスキー位相"
      ],
      "metadata": {
        "id": "p25IIAV7RCvV"
      }
    },
    {
      "cell_type": "markdown",
      "source": [
        "- [arithmetic geom](https://drive.google.com/file/d/1jbxkstraK9OTSugMudQ4DxO9ilW-MAQ3/view?usp=sharing) に書いたように、ザリスキー位相を定めます。位相があると、連続、極限が考えられますが、その他にもう一つ、実はこちらの方が重要なのですが、局所、大域の区別ができる、つまりある点の十分近い所というの局所ですね。ある点を含む開集合上に関数を制限することや、その狭い領域でしか定義できない関数が現れます。今の場合、開集合は、基本的に有限個の点を除いた集合です。その有限個の点でしか０にならない数　または多項式を分母に持ってくる。つまりその有限個の因子を約数に持たない数また多項式を分母にもっや分数や有理式を考えることができます。これって、有限個のの点ですが、いくらでも抜くことだできますよね。この極限的状況を帰納的極限また$colimit$または順極限という概念で定義できます。詳しいことは、[arithmetic geom](https://drive.google.com/file/d/1jbxkstraK9OTSugMudQ4DxO9ilW-MAQ3/view?usp=sharing) を見てください。"
      ],
      "metadata": {
        "id": "k5HnFvNoRNHl"
      }
    },
    {
      "cell_type": "markdown",
      "source": [
        "# 9.3. 層、茎"
      ],
      "metadata": {
        "id": "r-sW8sd4TZxO"
      }
    },
    {
      "cell_type": "markdown",
      "source": [
        " - $\\cal F_p$ や $\\cal F_\\alpha$ を$\\cal F$ の$x$ または $\\alpha$ でのstalk（茎)といいます。$\\cal F$ をSheaf(層) といいます。層に関してはまた圏論を扱う際にも触れますが、層を使うと、実際関数でなくても、関数のように扱うことが可能になって、いろんな一般化ができます。また　今の話を$Z$ や $C[X]$ から一般の可換環$A$ で話をするには、[arithmetic geom](https://drive.google.com/file/d/1jbxkstraK9OTSugMudQ4DxO9ilW-MAQ3/view?usp=sharing) に書いたように、イデアルで考えて、$Spec ~A$  として素イデアル全体の集合を考えます。これをアフィンスキームといいます。この考え方で言うとき$M$ や $C$ は　Mに$0$ を加え、さらに$C$ の方は複素数$\\alpha$ を $(X-\\alpha)$ と対応させて、$C[X]$ で考えて　さらに$0$ を加えます。加える理由は、素イデアルに$0$イデアルが含まれるからです。 "
      ],
      "metadata": {
        "id": "kl7nZBIPTd3U"
      }
    },
    {
      "cell_type": "markdown",
      "source": [
        "# 9.4. 実位相とザリスキー位相"
      ],
      "metadata": {
        "id": "qdVg5hXATlSt"
      }
    },
    {
      "cell_type": "markdown",
      "source": [
        " - 複素数の時を見ればわかるように、解析的な話では、複素数は $R^2$ の位相を使いました。それに対し、代数幾何では、ザリスキー位相を実際　開集合は、空集合か$C$か$C$ から有限個点を除いた集合しかありません。従って、ハウスドルフ空間ではないので、点列が異なる２点に収束することもありえますし、コンパクトであっても閉集合とは限りません。さらに $Spec~C[X]$ だと $C[X]$ の素イデアルですから、この場合はユークリッド整域なので、イデアルは一元から生成できて、既約ですから代数学の基本定理で１次式で生成されます（したがって極大イデアル）、または $(0)$ です。後者は閉包は $C[X]$ ですから 、この場合は$T_1$ 公理すら満たしません。"
      ],
      "metadata": {
        "id": "-77IgGUGT64U"
      }
    },
    {
      "cell_type": "markdown",
      "source": [
        " - Zariski open なら、実位相でも open で、実位相のの方が細かいわけですが、ザリスキー位相は粗すぎるため、エタール位相を考えたりしますが、これはすでに、普通の位相の定義ではなくなって、グロタンディーク位相になります。"
      ],
      "metadata": {
        "id": "nwDm9FoxYE_N"
      }
    },
    {
      "cell_type": "markdown",
      "source": [
        "# 9.5. 空間の点について"
      ],
      "metadata": {
        "id": "6wv6P6Iad4hd"
      }
    },
    {
      "cell_type": "markdown",
      "source": [
        "- $Z$や $C[X]$ の例でも分かるように、スキームで考える際は、素イデアルが点の扱いなので、例えば$C[X,Y]$ とかだと 既約多項式 で生成されるイデアルも素イデアルですから、極大イデアルだけ考えるとかしないと、普通の意味の\"点\"に零点集合が対応しません。また、２次曲面の分類で$k[a,b,c,d,e,f]$ の係数体をぼかしたのも、実数体にするとこの場合は複素数体を係数としたときと既約性に違いが出ます。零点集合を考えるということは $Hom_k(k[a,b,c,d,e,f])^G,R)$ をかんがえることです。$k[a,b,c,d,e,f]^G=k[D,E,T]$ ですから $D,E,T$ に実数を代入することになりす。"
      ],
      "metadata": {
        "id": "U-Ca2RYBeXOt"
      }
    }
  ]
}