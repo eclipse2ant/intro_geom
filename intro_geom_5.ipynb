{
  "nbformat": 4,
  "nbformat_minor": 0,
  "metadata": {
    "colab": {
      "provenance": [],
      "include_colab_link": true
    },
    "kernelspec": {
      "name": "python3",
      "display_name": "Python 3"
    },
    "language_info": {
      "name": "python"
    }
  },
  "cells": [
    {
      "cell_type": "markdown",
      "metadata": {
        "id": "view-in-github",
        "colab_type": "text"
      },
      "source": [
        "<a href=\"https://colab.research.google.com/github/eclipse2ant/intro_geom/blob/master/intro_geom_5.ipynb\" target=\"_parent\"><img src=\"https://colab.research.google.com/assets/colab-badge.svg\" alt=\"Open In Colab\"/></a>"
      ]
    },
    {
      "cell_type": "markdown",
      "source": [
        "# 5.　2次曲面、2次曲線のユークリッド変換群による分類\n"
      ],
      "metadata": {
        "id": "igsa7WcC2SC5"
      }
    },
    {
      "cell_type": "markdown",
      "source": [
        "- **IMG_0211.jpg ～ IMG_0213.jpg** を見てください。2次曲面の場合ですが、前回の内容は全く同様に考えられます。この本のやり方は、**[intro_geom-4--euclid_trans-2.pdf](https://drive.google.com/file/d/1y6UFMCPk7pz7fiD6AMXEJVal84JlCs3R/view?usp=share_link)**  でみると 先に$A$ を施して $X$ を対角化してから、平行移動の$b$ を施しています。"
      ],
      "metadata": {
        "id": "Lmc8xq-_Oy-B"
      }
    },
    {
      "cell_type": "markdown",
      "source": [
        "- **[intro_geom-4--euclid_trans-2.pdf](https://drive.google.com/file/d/1y6UFMCPk7pz7fiD6AMXEJVal84JlCs3R/view?usp=share_link)**  の$A=E$ のお時を見ればわかるように　$y$ を消すためにはその成分がノンゼロのとき、対応する対角化した行列の対角成分、つまり固有値ですが、対応する成分がノンゼロでないと消せません。この時1次の項が残ってしまいます。一つ項が消えてしまえば、消えた軸の方向に2次曲線をずらした面ができます。その意味では2次曲線の分類もこの中で行われいます。"
      ],
      "metadata": {
        "id": "cg5WS-8nTGVS"
      }
    },
    {
      "cell_type": "markdown",
      "source": [
        "- **IMG_0226.jpg ～ IMG_0229.jpg** では、少しやり方が異なるようです。"
      ],
      "metadata": {
        "id": "ifilK1OqVTPj"
      }
    }
  ]
}