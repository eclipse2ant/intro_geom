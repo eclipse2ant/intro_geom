{
  "nbformat": 4,
  "nbformat_minor": 0,
  "metadata": {
    "colab": {
      "provenance": [],
      "include_colab_link": true
    },
    "kernelspec": {
      "name": "python3",
      "display_name": "Python 3"
    },
    "language_info": {
      "name": "python"
    }
  },
  "cells": [
    {
      "cell_type": "markdown",
      "metadata": {
        "id": "view-in-github",
        "colab_type": "text"
      },
      "source": [
        "<a href=\"https://colab.research.google.com/github/eclipse2ant/intro_geom/blob/master/intro_geom_6.ipynb\" target=\"_parent\"><img src=\"https://colab.research.google.com/assets/colab-badge.svg\" alt=\"Open In Colab\"/></a>"
      ]
    },
    {
      "cell_type": "markdown",
      "source": [
        "# 6. 射影空間と射影曲線、射影幾何\n"
      ],
      "metadata": {
        "id": "igsa7WcC2SC5"
      }
    },
    {
      "cell_type": "markdown",
      "source": [
        "- まず、**[intro_geom-6-projective space.odf](https://drive.google.com/file/d/10PBV1ZPENaI8PRWLoXcyjyZtyix2BaQp/view?usp=share_link)** を見てください 。これで、なぜ $R^3$ 内の $z=1$ 平面が重要かわかると思います。 $R^3-{}0$ で原点を通る直線上にある点を同一したのが射影空間で、その中の $R^2$ 平面になって、$P_2(R)$ 自体は、$R^2 \\coprod P_1(R)$ と位相同型。 ここで$\\coprod $ は disjoint union をあらわす。つまりへ宇面に無限の\"ふち\"ををつけた。"
      ],
      "metadata": {
        "id": "BGbgAIh5kjFr"
      }
    },
    {
      "cell_type": "markdown",
      "source": [
        "## 6.1. 平面曲線と射影曲線"
      ],
      "metadata": {
        "id": "v02J60mouIBa"
      }
    },
    {
      "cell_type": "markdown",
      "source": [
        "- さて、よくやる手ですが、平面上の2次曲線 つまり **IMG_200.jpg** の(1) <br><br>$$ax^2+2bxy+cy^2+2dx+2ey+f=0 \\tag{1} $$<br><br> において、$x=x/z,~y=y/z$ とおきなおしてやると<br><br>$$ax^2+2bxy+cy^2+2dxz+2eyz+fz^2=0 \\tag{1} $$<br><br> となり、2次の斉次方程式になります。つまり、 **IMG_200.jpg** の(2) の中の行列表示で、$1$ を $z$ に置き替えたものを、2次の射影曲線といいます。この時、斉次だと射影空間の同値類の代表元によらずに方程式の解になるかならないかが決まるので、射得空間内の曲線を表せます。同時に $z=1$ の平面との交わりが (1) の平面曲線になります。\n"
      ],
      "metadata": {
        "id": "9_yxvvYBupAy"
      }
    },
    {
      "cell_type": "markdown",
      "source": [
        "- つまり、(1) を、$R^2$ の無限のふちまで、曲線を伸ばした曲線　言い換えれば、$P_2(R)=R^2 \\coprod P_1(R)$ の $P_1(R)$ まで曲線を拡張した曲線が (2) です。"
      ],
      "metadata": {
        "id": "QHBecT35MKVB"
      }
    },
    {
      "cell_type": "markdown",
      "source": [
        "- 実を言うと、ここまで伸ばしたら、楕円も双曲線も放物線もみな同じ曲線で、無限のふちにどの部分が消えてるかで見え方が異なる。これって、ぞくぞくしませんか！！。話しは違いますが、キリスト教やユダヤ教の終末論はバビロン捕囚や希望が見いだせない時代、十戒を守れって言ってた時代からどう考えても絶望の時代に、終末という無限のふちからものを見ることによって既存の価値観から異なる価値観、たぶんゾロアスター教（クィーンのフレディーの家庭が信者だった）の裁きの火とギリシャのオルペニウス教の輪廻とハデスあたりから、現世を見る。思想や宗教も見方を変えれば、変換群で不変な性質を見ている幾何学なのかもしれませんね\n"
      ],
      "metadata": {
        "id": "6kELPn4PN8Kx"
      }
    }
  ]
}