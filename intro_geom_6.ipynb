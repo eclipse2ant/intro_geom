{
  "nbformat": 4,
  "nbformat_minor": 0,
  "metadata": {
    "colab": {
      "provenance": [],
      "include_colab_link": true
    },
    "kernelspec": {
      "name": "python3",
      "display_name": "Python 3"
    },
    "language_info": {
      "name": "python"
    }
  },
  "cells": [
    {
      "cell_type": "markdown",
      "metadata": {
        "id": "view-in-github",
        "colab_type": "text"
      },
      "source": [
        "<a href=\"https://colab.research.google.com/github/eclipse2ant/intro_geom/blob/master/intro_geom_6.ipynb\" target=\"_parent\"><img src=\"https://colab.research.google.com/assets/colab-badge.svg\" alt=\"Open In Colab\"/></a>"
      ]
    },
    {
      "cell_type": "markdown",
      "source": [
        "# 6. 射影空間\n"
      ],
      "metadata": {
        "id": "igsa7WcC2SC5"
      }
    },
    {
      "cell_type": "markdown",
      "source": [
        "- まず、**[intro_geom-6-projective space.odf](https://drive.google.com/file/d/10PBV1ZPENaI8PRWLoXcyjyZtyix2BaQp/view?usp=share_link)** を見てください 。これで、なぜ $R^3$ 内の $z=1$ 平面が重要かわかると思います。 $R^3-{}0$ で原点を通る直線上にある点を同一したのが射影空間で、その中の $R^2$ 平面になって、$P_2(R)$ 自体は、$R^2 \\coprod P_1(R)$ と位相同型。 ここで$\\coprod $ は disjoint union をあらわす。つまりへ宇面に無限の\"ふち\"ををつけた。"
      ],
      "metadata": {
        "id": "BGbgAIh5kjFr"
      }
    }
  ]
}