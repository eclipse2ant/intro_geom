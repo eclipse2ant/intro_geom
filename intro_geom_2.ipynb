{
  "nbformat": 4,
  "nbformat_minor": 0,
  "metadata": {
    "colab": {
      "provenance": [],
      "include_colab_link": true
    },
    "kernelspec": {
      "name": "python3",
      "display_name": "Python 3"
    },
    "language_info": {
      "name": "python"
    }
  },
  "cells": [
    {
      "cell_type": "markdown",
      "metadata": {
        "id": "view-in-github",
        "colab_type": "text"
      },
      "source": [
        "<a href=\"https://colab.research.google.com/github/eclipse2ant/intro_geom/blob/master/intro_geom_2.ipynb\" target=\"_parent\"><img src=\"https://colab.research.google.com/assets/colab-badge.svg\" alt=\"Open In Colab\"/></a>"
      ]
    },
    {
      "cell_type": "markdown",
      "source": [
        "##2.2.  合同変換群 (ユークリッド変換群)"
      ],
      "metadata": {
        "id": "igsa7WcC2SC5"
      }
    },
    {
      "cell_type": "markdown",
      "source": [
        "- $3$次元空間 において、二つの三角形が形が同じ、つまり合同とは、一つの三角形にもう一つがちゃんと重なる。この際、三角形を動かすとは、どういうことなのか。これは距離を変えない写像で移すということです。既に線形代数でやってますが、一般に$R^n$ で標準内積から定義されるノルムで、$x,y \\in R^n$ において $d(x,y)=\\|x-y\\|$ で距離を定めたとき、距離を変えない写像は、まず、単射、それから連続、そして内積を変えません。さらにそこから原点を原点に移す場合は線形であることが成り立ちます。従って一般に$n$次直交行列$A$ と $b \\in R^n$ で $Ax+b$ で表されます。"
      ],
      "metadata": {
        "id": "45V2iOes-jfj"
      }
    },
    {
      "cell_type": "markdown",
      "source": [
        " - さてここで、合同変換の全体からなる集合を考えてみましょう。これらの変換では **<font color=\"red\">”形”</font>** は変わりません。ここで逆転の発想をしてみましょう。どうせ **<font color=\"red\">”形”</font>** は定義がはっきりしていないのなら、合同変換で不変なものが **<font color=\"red\">”形”</font>**  と定義してしまいましょう。実際、長さも変えないし、内積を変えませんから、角度も変えません。長さを変えないだけで、角度も不変って、三角形の三辺の長さが等しい三角形は合同という三角形の合同定理を匂わせますね。内積やノルムの計算から初等幾何でユークリッドの公理から導く定理（前調べた際、実際は導くのは至難の業でたいていの本は循環論法になってて、証明になってませんでした）。**<font color=\"BLUE\">「ユークリッド幾何は合同変換で不変なものを調べる学問」</font>** 　これがクライン流のユークリッド幾何の定式化です。"
      ],
      "metadata": {
        "id": "n8JrXhzNnZeR"
      }
    },
    {
      "cell_type": "markdown",
      "source": [
        "- 合同変換を定式化しましょう $G=R^2 \\times O(2)$ としましょう。ここで $O(2)$ は２次の直交行列全体の集合です。$X=R^2$ として、$$$$$$G \\times X \\longrightarrow X \\tag{1}$$ を\n",
        "$$\n",
        "g=(b, A) ~\\mapsto g\\cdot x=Ax+b \\tag{2}\n",
        "$$\n",
        "$$$$\n",
        " で定義します。$(b_1,A_1)$ と $ (b_2,A_2)$ の積を$$$$ \n",
        "$$(b_1,A_1)\\cdot (b_2,A_2)=(b_1+A\\cdot b_2, ~A_1A_2)$$$$$$ で定めると、$G$ は群をなし、\n",
        "$$\n",
        "\\begin{align}\n",
        "(g_1g_2)\\cdot x &= g_1\\cdot (g_2 \\cdot x) \\tag{3} \\\\\n",
        "1\\cdot x &=x  \\tag{4} \\\\ \n",
        "\\end{align}\n",
        "$$$$$$\n",
        " を満たす。ただし $1=(0,E)$,  $~E$ は2次の単位行列。"
      ],
      "metadata": {
        "id": "QkcN9nLT5BXg"
      }
    },
    {
      "cell_type": "markdown",
      "source": [
        "- 写像 (1) において、(3)(4) を満たすとき、群 $G$ が$X$ に作用しているといい。$G$ を $X$ 上の**<font color=\"red\">変換群</font>**といいます。(2)を$G$ の $X$ への作用といいます。結局ユークリッド幾何とは　 群 $G$ が $G=R^2 \\times O(2)$ のとき (2) で $R^2$ 上への変化群として作用を与えたときの不変量を研究する学問ということです。今の場合の $G=R^2 \\times O(2)$ 実際は $G=R^2 \\rtimes O(2)$ と書いて**<font color=\"red\">半直積</font>**で表しますが、これを**<font color=\"red\">合同変換群</font>**または**<font color=\"red\">ユークリッド変換群</font>**といいます。以下ここでは、用語としては、**<font color=\"red\">ユークリッド変換群</font>**の方を使います"
      ],
      "metadata": {
        "id": "O3Ggl9Fu0pCu"
      }
    },
    {
      "cell_type": "markdown",
      "source": [
        "- 「幾何学とは、変化群の不変量を研究する学問である」がクラインのエルランゲンプログラムです。現代の微分幾何学のファイバーバンドルの理論はこれの相対化といっていいでしょう。主束(principal fiber bundle) やその随伴束(associated bundle) そしてそこでの接続(connection)の話、これらは物理のゲージ理論と対応します。もちろんリーマン計量ないしは複素多様体でケーラー多様体などもやらないといけませんが。"
      ],
      "metadata": {
        "id": "zIlML2ua4WcO"
      }
    },
    {
      "cell_type": "markdown",
      "source": [
        "- この講義は別の路線を行きます。ここでは、2次曲線、2次曲面をユークリッド変換群で分類します。感じとしては2次曲線の方がいろいろ発展させられます。ここでは次の4冊をもとに話を進めていきます。<br> <br>[1] [改定3版 基礎 線形代数　押川元重・坂口統治著　培風館](https://www.amazon.co.jp/%E5%9F%BA%E7%A4%8E-%E7%B7%9A%E5%BD%A2%E4%BB%A3%E6%95%B0-%E6%8A%BC%E5%B7%9D-%E5%85%83%E9%87%8D/dp/4563002151/ref=sr_1_1?__mk_ja_JP=%E3%82%AB%E3%82%BF%E3%82%AB%E3%83%8A&crid=1SFUVVXMONNUI&keywords=%E5%9F%B9%E9%A2%A8%E9%A4%A8+%E6%8A%BC%E5%B7%9D+%E7%B7%9A%E5%BD%A2%E4%BB%A3%E6%95%B0&qid=1678257684&s=digital-text&sprefix=%E5%9F%B9%E9%A2%A8%E9%A4%A8+%E6%8A%BC%E5%B7%9D+%E7%B7%9A%E5%BD%A2%E4%BB%A3%E6%95%B0%2Cdigital-text%2C167&sr=1-1) <br>  [2] [線形代数講義 (ライブラリ数理・情報系の数学講義) 金子 晃著 サイエンス社](https://www.amazon.co.jp/%E7%B7%9A%E5%BD%A2%E4%BB%A3%E6%95%B0%E8%AC%9B%E7%BE%A9-%E3%83%A9%E3%82%A4%E3%83%96%E3%83%A9%E3%83%AA%E6%95%B0%E7%90%86%E3%83%BB%E6%83%85%E5%A0%B1%E7%B3%BB%E3%81%AE%E6%95%B0%E5%AD%A6%E8%AC%9B%E7%BE%A9-%E9%87%91%E5%AD%90-%E6%99%83/dp/4781910831/ref=sr_1_1?__mk_ja_JP=%E3%82%AB%E3%82%BF%E3%82%AB%E3%83%8A&crid=ZP1V8KVEOMA0&keywords=%E7%B7%9A%E5%BD%A2%E4%BB%A3%E6%95%B0%E8%AC%9B%E7%BE%A9+%E9%87%91%E5%AD%90&qid=1678260033&s=digital-text&sprefix=%E7%B7%9A%E5%BD%A2%E4%BB%A3%E6%95%B0%E8%AC%9B%E7%BE%A9+%E9%87%91%E5%AD%90%2Cdigital-text%2C164&sr=1-1)<br>[3] [モジュライ理論I 向井 茂著 岩波書店](https://www.amazon.co.jp/%E3%83%A2%E3%82%B8%E3%83%A5%E3%83%A9%E3%82%A4%E7%90%86%E8%AB%96I-%E5%B2%A9%E6%B3%A2%E3%82%AA%E3%83%B3%E3%83%87%E3%83%9E%E3%83%B3%E3%83%89%E3%83%96%E3%83%83%E3%82%AF%E3%82%B9-%E5%90%91%E4%BA%95-%E8%8C%82/dp/400730842X/ref=sr_1_1?__mk_ja_JP=%E3%82%AB%E3%82%BF%E3%82%AB%E3%83%8A&crid=207MOPK2IXYHP&keywords=%E3%83%A2%E3%82%B8%E3%83%A5%E3%83%A9%E3%82%A4%E7%90%86%E8%AB%96&qid=1678260767&s=digital-text&sprefix=%E3%83%A2%E3%82%B8%E3%83%A5%E3%83%A9%E3%82%A4%E7%90%86%E8%AB%96%2Cdigital-text%2C197&sr=1-1-catcorr)<br>[4[ [An Introduction to Invariants and Moduli  (Cambridge Studies in Advanced Mathematics, Series Number 81) S.Mukai  Cambridge University Press](https://www.amazon.com/Introduction-Invariants-Cambridge-Advanced-Mathematics/dp/1107406366) <br><br>[1] は線形代数の本としては優しすぎて、ただ演習問題はいろいろあります。後今のテーマでは具体的に2次曲面の場合も分類が書いてあって、煩雑ですが、煩雑さを見てもらうためにも参考文献にしています。[2] は情報系用に書かれたものなので、多少癖がありますが　何せ金子先生　[東大出版の超関数入門(上)(下](https://www.amazon.co.jp/%E8%B6%85%E5%87%BD%E6%95%B0%E5%85%A5%E9%96%80-%E9%87%91%E5%AD%90-%E6%99%83/dp/4130613006/ref=sr_1_2?__mk_ja_JP=%E3%82%AB%E3%82%BF%E3%82%AB%E3%83%8A&crid=16DJYI116NAEH&keywords=%E8%B6%85%E9%96%A2%E6%95%B0+%E9%87%91%E5%AD%90&qid=1678261267&s=digital-text&sprefix=%E8%B6%85%E9%96%A2%E6%95%B0+%E9%87%91%E5%AD%90%2Cdigital-text%2C159&sr=1-2-catcorr)）の著者ですから、味わい深いです。\n"
      ],
      "metadata": {
        "id": "cNfGcZOV6kaF"
      }
    },
    {
      "cell_type": "markdown",
      "source": [
        "- 今回メインに使うのは[3][4] です。[4] は [3] の英訳です。別の人が英訳したようで、証明も補ってあったりしてます。英語の方はもしかすると、PDFがネットに転がってるかもしれません。\n"
      ],
      "metadata": {
        "id": "ECtDlmp1X1ui"
      }
    }
  ]
}