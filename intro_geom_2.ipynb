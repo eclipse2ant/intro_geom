{
  "nbformat": 4,
  "nbformat_minor": 0,
  "metadata": {
    "colab": {
      "provenance": [],
      "include_colab_link": true
    },
    "kernelspec": {
      "name": "python3",
      "display_name": "Python 3"
    },
    "language_info": {
      "name": "python"
    }
  },
  "cells": [
    {
      "cell_type": "markdown",
      "metadata": {
        "id": "view-in-github",
        "colab_type": "text"
      },
      "source": [
        "<a href=\"https://colab.research.google.com/github/eclipse2ant/intro_geom/blob/master/intro_geom_2.ipynb\" target=\"_parent\"><img src=\"https://colab.research.google.com/assets/colab-badge.svg\" alt=\"Open In Colab\"/></a>"
      ]
    },
    {
      "cell_type": "markdown",
      "source": [
        "##2.2.  合同変換\n",
        "- $3$次元空間 において、二つの三角形が形が同じ、つまり合同とは、一つの三角形にもう一つがちゃんと重なる。この際、三角形を動かすとは、どういうことなのか。これは距離を変えない写像で移すということです。既に線形代数でやってますが、一般に$R^n$ で標準内積から定義されるノルムで、$x,y \\in R^n$ において $d(x,y)=\\|x-y\\|$ で距離を定めたとき、距離を変えない写像は、まず、単射、それから連続、そして内積を変えません。さらにそこから原点を原点に移す場合は線形であることが成り立ちます。従って一般に$n$次直交行列$A$ と $b \\in R^n$ で $Ax+b$ で表されます。"
      ],
      "metadata": {
        "id": "igsa7WcC2SC5"
      }
    },
    {
      "cell_type": "markdown",
      "source": [
        " - さてここで、合同変換の全体からなる集合を考えてみましょう。これらの変換では **<font color=\"red\">”形”</font>** は変わりません。ここで逆転の発想をしてみましょう。どうせ **<font color=\"red\">”形”</font>** は定義がはっきりしていないのなら、合同変換で不変なものが **<font color=\"red\">”形”</font>**  と定義してしまいましょう。実際、長さも変えないし、内積を変えませんから、角度も変えません。長さを変えないだけで、角度も不変って、三角形の三辺の長さが等しい三角形は合同という三角形の合同定理を匂わせますね。内積やノルムの計算から初等幾何でユークリッドの公理から導く定理（前調べた際、実際は導くのは至難の業でたいていの本は循環論法になってて、証明になってませんでした）。**<font color=\"BLUE\">「ユークリッド幾何は合同変換で不変なものを調べる学問」</font>** 　これがクライン流のユークリッド幾何の定式化です。"
      ],
      "metadata": {
        "id": "n8JrXhzNnZeR"
      }
    },
    {
      "cell_type": "markdown",
      "source": [
        "- 合同変換を定式化しましょう $G=O(2) \\times R^2$ としましょう。ここで $O(2)$ は２次の直交行列全体の集合です。$X=R^2$ として、$G \\times X \\longrightarrow X$ を\n",
        "$g=(b, A) ~\\mapsto g\\cdot x=Ax+b$ で定義します。。$(b_1,A_1)$ と $ (b_2,A_2)$ の積を $(b_1,A_1)\\cdot (b_2,A_2)=(b_1+A\\cdot b_2, ~A_1A_2)$ で定めると、$G$ は群をなし、\n",
        "$$\n",
        "\\begin{align}\n",
        "(g_1g_2)\\cdot x &= g_1\\cdot (g_2 \\cdot x) \\tag{1} \\\\\n",
        "1\\cdot x &=x  \\tag{2} \\\\ \n",
        "\\end{align}\n",
        "$$\n",
        " を満たす。ただし $1=(0,E)$,  $~E$ は2次の正方行列。"
      ],
      "metadata": {
        "id": "QkcN9nLT5BXg"
      }
    }
  ]
}