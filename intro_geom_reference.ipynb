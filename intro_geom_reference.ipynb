{
  "nbformat": 4,
  "nbformat_minor": 0,
  "metadata": {
    "colab": {
      "provenance": [],
      "include_colab_link": true
    },
    "kernelspec": {
      "name": "python3",
      "display_name": "Python 3"
    },
    "language_info": {
      "name": "python"
    }
  },
  "cells": [
    {
      "cell_type": "markdown",
      "metadata": {
        "id": "view-in-github",
        "colab_type": "text"
      },
      "source": [
        "<a href=\"https://colab.research.google.com/github/eclipse2ant/intro_geom/blob/master/intro_geom_reference.ipynb\" target=\"_parent\"><img src=\"https://colab.research.google.com/assets/colab-badge.svg\" alt=\"Open In Colab\"/></a>"
      ]
    },
    {
      "cell_type": "markdown",
      "source": [
        "- [1] [改定3版 基礎 線形代数　押川元重・坂口統治著　培風館](https://www.amazon.co.jp/%E5%9F%BA%E7%A4%8E-%E7%B7%9A%E5%BD%A2%E4%BB%A3%E6%95%B0-%E6%8A%BC%E5%B7%9D-%E5%85%83%E9%87%8D/dp/4563002151/ref=sr_1_1?__mk_ja_JP=%E3%82%AB%E3%82%BF%E3%82%AB%E3%83%8A&crid=1SFUVVXMONNUI&keywords=%E5%9F%B9%E9%A2%A8%E9%A4%A8+%E6%8A%BC%E5%B7%9D+%E7%B7%9A%E5%BD%A2%E4%BB%A3%E6%95%B0&qid=1678257684&s=digital-text&sprefix=%E5%9F%B9%E9%A2%A8%E9%A4%A8+%E6%8A%BC%E5%B7%9D+%E7%B7%9A%E5%BD%A2%E4%BB%A3%E6%95%B0%2Cdigital-text%2C167&sr=1-1)"
      ],
      "metadata": {
        "id": "TG2pnNW7kADj"
      }
    },
    {
      "cell_type": "markdown",
      "source": [
        "- [2] [線形代数講義 (ライブラリ数理・情報系の数学講義) 金子 晃著 サイエンス社](https://www.amazon.co.jp/%E7%B7%9A%E5%BD%A2%E4%BB%A3%E6%95%B0%E8%AC%9B%E7%BE%A9-%E3%83%A9%E3%82%A4%E3%83%96%E3%83%A9%E3%83%AA%E6%95%B0%E7%90%86%E3%83%BB%E6%83%85%E5%A0%B1%E7%B3%BB%E3%81%AE%E6%95%B0%E5%AD%A6%E8%AC%9B%E7%BE%A9-%E9%87%91%E5%AD%90-%E6%99%83/dp/4781910831/ref=sr_1_1?__mk_ja_JP=%E3%82%AB%E3%82%BF%E3%82%AB%E3%83%8A&crid=ZP1V8KVEOMA0&keywords=%E7%B7%9A%E5%BD%A2%E4%BB%A3%E6%95%B0%E8%AC%9B%E7%BE%A9+%E9%87%91%E5%AD%90&qid=1678260033&s=digital-text&sprefix=%E7%B7%9A%E5%BD%A2%E4%BB%A3%E6%95%B0%E8%AC%9B%E7%BE%A9+%E9%87%91%E5%AD%90%2Cdigital-text%2C164&sr=1-1)"
      ],
      "metadata": {
        "id": "myiGqhlZkNeM"
      }
    },
    {
      "cell_type": "markdown",
      "source": [
        "- [3] [モジュライ理論I 向井 茂著 岩波書店](https://www.amazon.co.jp/%E3%83%A2%E3%82%B8%E3%83%A5%E3%83%A9%E3%82%A4%E7%90%86%E8%AB%96I-%E5%B2%A9%E6%B3%A2%E3%82%AA%E3%83%B3%E3%83%87%E3%83%9E%E3%83%B3%E3%83%89%E3%83%96%E3%83%83%E3%82%AF%E3%82%B9-%E5%90%91%E4%BA%95-%E8%8C%82/dp/400730842X/ref=sr_1_1?__mk_ja_JP=%E3%82%AB%E3%82%BF%E3%82%AB%E3%83%8A&crid=207MOPK2IXYHP&keywords=%E3%83%A2%E3%82%B8%E3%83%A5%E3%83%A9%E3%82%A4%E7%90%86%E8%AB%96&qid=1678260767&s=digital-text&sprefix=%E3%83%A2%E3%82%B8%E3%83%A5%E3%83%A9%E3%82%A4%E7%90%86%E8%AB%96%2Cdigital-text%2C197&sr=1-1-catcorr)"
      ],
      "metadata": {
        "id": "HvBc_lg0kYcg"
      }
    },
    {
      "cell_type": "markdown",
      "source": [
        " - [4[ [An Introduction to Homological Algebra (Cambridge Studies in Advanced Mathematics, Series Number 38) S.Mukai  Cambridge University Press](https://www.amazon.com/Introduction-Invariants-Cambridge-Advanced-Mathematics/dp/1107406366)  　　[3] の英訳です。別の人が英訳したようで、証明も補ってあったりしてます。英語の方はもしかすると、PDFがネットに転がってるかもしれません。\n"
      ],
      "metadata": {
        "id": "3S7yB8L3kfg3"
      }
    }
  ]
}