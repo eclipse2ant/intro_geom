{
  "nbformat": 4,
  "nbformat_minor": 0,
  "metadata": {
    "colab": {
      "provenance": [],
      "include_colab_link": true
    },
    "kernelspec": {
      "name": "python3",
      "display_name": "Python 3"
    },
    "language_info": {
      "name": "python"
    }
  },
  "cells": [
    {
      "cell_type": "markdown",
      "metadata": {
        "id": "view-in-github",
        "colab_type": "text"
      },
      "source": [
        "<a href=\"https://colab.research.google.com/github/eclipse2ant/intro_geom/blob/master/intro_geom_reference.ipynb\" target=\"_parent\"><img src=\"https://colab.research.google.com/assets/colab-badge.svg\" alt=\"Open In Colab\"/></a>"
      ]
    },
    {
      "cell_type": "markdown",
      "source": [
        "- [1] [改定3版 基礎 線形代数　押川元重・坂口統治著　培風館](https://www.amazon.co.jp/%E5%9F%BA%E7%A4%8E-%E7%B7%9A%E5%BD%A2%E4%BB%A3%E6%95%B0-%E6%8A%BC%E5%B7%9D-%E5%85%83%E9%87%8D/dp/4563002151/ref=sr_1_1?__mk_ja_JP=%E3%82%AB%E3%82%BF%E3%82%AB%E3%83%8A&crid=1SFUVVXMONNUI&keywords=%E5%9F%B9%E9%A2%A8%E9%A4%A8+%E6%8A%BC%E5%B7%9D+%E7%B7%9A%E5%BD%A2%E4%BB%A3%E6%95%B0&qid=1678257684&s=digital-text&sprefix=%E5%9F%B9%E9%A2%A8%E9%A4%A8+%E6%8A%BC%E5%B7%9D+%E7%B7%9A%E5%BD%A2%E4%BB%A3%E6%95%B0%2Cdigital-text%2C167&sr=1-1)"
      ],
      "metadata": {
        "id": "TG2pnNW7kADj"
      }
    },
    {
      "cell_type": "markdown",
      "source": [
        "- [2] [線形代数講義 (ライブラリ数理・情報系の数学講義) 金子 晃著 サイエンス社](https://www.amazon.co.jp/%E7%B7%9A%E5%BD%A2%E4%BB%A3%E6%95%B0%E8%AC%9B%E7%BE%A9-%E3%83%A9%E3%82%A4%E3%83%96%E3%83%A9%E3%83%AA%E6%95%B0%E7%90%86%E3%83%BB%E6%83%85%E5%A0%B1%E7%B3%BB%E3%81%AE%E6%95%B0%E5%AD%A6%E8%AC%9B%E7%BE%A9-%E9%87%91%E5%AD%90-%E6%99%83/dp/4781910831/ref=sr_1_1?__mk_ja_JP=%E3%82%AB%E3%82%BF%E3%82%AB%E3%83%8A&crid=ZP1V8KVEOMA0&keywords=%E7%B7%9A%E5%BD%A2%E4%BB%A3%E6%95%B0%E8%AC%9B%E7%BE%A9+%E9%87%91%E5%AD%90&qid=1678260033&s=digital-text&sprefix=%E7%B7%9A%E5%BD%A2%E4%BB%A3%E6%95%B0%E8%AC%9B%E7%BE%A9+%E9%87%91%E5%AD%90%2Cdigital-text%2C164&sr=1-1)"
      ],
      "metadata": {
        "id": "myiGqhlZkNeM"
      }
    },
    {
      "cell_type": "markdown",
      "source": [
        "- [3] [モジュライ理論I 向井 茂著 岩波書店](https://www.amazon.co.jp/%E3%83%A2%E3%82%B8%E3%83%A5%E3%83%A9%E3%82%A4%E7%90%86%E8%AB%96I-%E5%B2%A9%E6%B3%A2%E3%82%AA%E3%83%B3%E3%83%87%E3%83%9E%E3%83%B3%E3%83%89%E3%83%96%E3%83%83%E3%82%AF%E3%82%B9-%E5%90%91%E4%BA%95-%E8%8C%82/dp/400730842X/ref=sr_1_1?__mk_ja_JP=%E3%82%AB%E3%82%BF%E3%82%AB%E3%83%8A&crid=207MOPK2IXYHP&keywords=%E3%83%A2%E3%82%B8%E3%83%A5%E3%83%A9%E3%82%A4%E7%90%86%E8%AB%96&qid=1678260767&s=digital-text&sprefix=%E3%83%A2%E3%82%B8%E3%83%A5%E3%83%A9%E3%82%A4%E7%90%86%E8%AB%96%2Cdigital-text%2C197&sr=1-1-catcorr)"
      ],
      "metadata": {
        "id": "HvBc_lg0kYcg"
      }
    },
    {
      "cell_type": "markdown",
      "source": [
        " - [4[ [An Introduction to Homological Algebra (Cambridge Studies in Advanced Mathematics, Series Number 38) S.Mukai  Cambridge University Press](https://www.amazon.com/Introduction-Invariants-Cambridge-Advanced-Mathematics/dp/1107406366)  　　[3] の英訳です。別の人が英訳したようで、証明も補ってあったりします。\n"
      ],
      "metadata": {
        "id": "3S7yB8L3kfg3"
      }
    },
    {
      "cell_type": "markdown",
      "source": [
        "- [5] [現代代数学 (近代数学講座) 服部 昭著  朝倉書店](https://www.amazon.co.jp/%E7%8F%BE%E4%BB%A3%E4%BB%A3%E6%95%B0%E5%AD%A6-%E8%BF%91%E4%BB%A3%E6%95%B0%E5%AD%A6%E8%AC%9B%E5%BA%A7-%E6%9C%8D%E9%83%A8-%E6%98%AD/dp/4254116519/ref=sr_1_3?__mk_ja_JP=%E3%82%AB%E3%82%BF%E3%82%AB%E3%83%8A&crid=2E2Z97EIWB5GW&keywords=%E7%8F%BE%E4%BB%A3%E4%BB%A3%E6%95%B0%E5%AD%A6&qid=1678520418&sprefix=%E7%8F%BE%E4%BB%A3%E4%BB%A3%E6%95%B0%E5%AD%A6%2Caps%2C196&sr=8-3)"
      ],
      "metadata": {
        "id": "3a-lBhOKnpwh"
      }
    },
    {
      "cell_type": "markdown",
      "source": [
        "- [6] [代数多様体論 (共立講座 21世紀の数学) 川又 雄二郎著 共立出版](https://www.amazon.co.jp/%E4%BB%A3%E6%95%B0%E5%A4%9A%E6%A7%98%E4%BD%93%E8%AB%96-%E5%85%B1%E7%AB%8B%E8%AC%9B%E5%BA%A7-21%E4%B8%96%E7%B4%80%E3%81%AE%E6%95%B0%E5%AD%A6-%E5%B7%9D%E5%8F%88-%E9%9B%84%E4%BA%8C%E9%83%8E/dp/4320015711/ref=sr_1_1?__mk_ja_JP=%E3%82%AB%E3%82%BF%E3%82%AB%E3%83%8A&keywords=%E4%BB%A3%E6%95%B0%E5%A4%9A%E6%A7%98%E4%BD%93&qid=1679038098&sr=8-1)"
      ],
      "metadata": {
        "id": "LArgog2dUCaE"
      }
    },
    {
      "cell_type": "markdown",
      "source": [
        "- [7] [特異点入門 改訂版 (現代数学シリーズ)  石井 志保子 (著) 丸善出版](https://www.amazon.co.jp/%E7%89%B9%E7%95%B0%E7%82%B9%E5%85%A5%E9%96%80-%E6%94%B9%E8%A8%82%E7%89%88-%E7%8F%BE%E4%BB%A3%E6%95%B0%E5%AD%A6%E3%82%B7%E3%83%AA%E3%83%BC%E3%82%BA-%E7%9F%B3%E4%BA%95-%E5%BF%97%E4%BF%9D%E5%AD%90/dp/4621304755/ref=sr_1_5?__mk_ja_JP=%E3%82%AB%E3%82%BF%E3%82%AB%E3%83%8A&crid=MM3BF5IZXKM5&keywords=%E7%89%B9%E7%95%B0%E7%82%B9&qid=1679038309&sprefix=%E7%89%B9%E7%95%B0%E7%82%B9%2Caps%2C180&sr=8-5)"
      ],
      "metadata": {
        "id": "3LcbX4pQUQar"
      }
    },
    {
      "cell_type": "markdown",
      "source": [
        "- [8] [Algebraic Geometry (Graduate Texts in Mathematics, 52)  Robin Hartshorne  Springer](https://www.amazon.com/Algebraic-Geometry-Graduate-Texts-Mathematics/dp/0387902449/ref=sr_1_3?crid=1JENS06IVBIF1&keywords=Algebraic+geometry&qid=1679038558&s=books&sprefix=algebraic+geometry%2Cstripbooks-intl-ship%2C251&sr=1-3)\n"
      ],
      "metadata": {
        "id": "-ZvaQ8C7UYFc"
      }
    },
    {
      "cell_type": "markdown",
      "source": [
        "- [9] 現在入手困難は 上野さんの岩波の  [代数幾何](https://www.amazon.co.jp/%E4%BB%A3%E6%95%B0%E5%B9%BE%E4%BD%95-%E4%B8%8A%E9%87%8E-%E5%81%A5%E7%88%BE/dp/4000056492/ref=sr_1_4?__mk_ja_JP=%E3%82%AB%E3%82%BF%E3%82%AB%E3%83%8A&crid=3UI3JU7RTJI57&keywords=%E4%BB%A3%E6%95%B0%E5%B9%BE%E4%BD%95%E5%AD%A6+%E4%B8%8A%E9%87%8E&qid=1679038826&sprefix=%E4%BB%A3%E6%95%B0%E5%B9%BE%E4%BD%95+%E4%B8%8A%E9%87%8E%2Caps%2C170&sr=8-4)<br> 図書館ぐらいにシリーズで1 2 3 って分かれたのがあるかな。"
      ],
      "metadata": {
        "id": "FdS1UaKnUfXc"
      }
    }
  ]
}