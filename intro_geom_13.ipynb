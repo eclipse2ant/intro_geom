{
  "nbformat": 4,
  "nbformat_minor": 0,
  "metadata": {
    "colab": {
      "provenance": [],
      "include_colab_link": true
    },
    "kernelspec": {
      "name": "python3",
      "display_name": "Python 3"
    },
    "language_info": {
      "name": "python"
    }
  },
  "cells": [
    {
      "cell_type": "markdown",
      "metadata": {
        "id": "view-in-github",
        "colab_type": "text"
      },
      "source": [
        "<a href=\"https://colab.research.google.com/github/eclipse2ant/intro_geom/blob/master/intro_geom_13.ipynb\" target=\"_parent\"><img src=\"https://colab.research.google.com/assets/colab-badge.svg\" alt=\"Open In Colab\"/></a>"
      ]
    },
    {
      "cell_type": "markdown",
      "source": [
        "# 13. これまでのまとめ\n"
      ],
      "metadata": {
        "id": "igsa7WcC2SC5"
      }
    },
    {
      "cell_type": "markdown",
      "source": [
        "## 13.1. モジュライ"
      ],
      "metadata": {
        "id": "-pBg4P1Lz5g7"
      }
    },
    {
      "cell_type": "markdown",
      "source": [
        "- 形とは、クラインのエルランゲンプログラムから、ユークリッド変換群での不変量だということで、２次曲面をユークリッド変換群で分類しました。その際やったことは、２次曲面を表す方程式たちをその係数 $a,b,\\cdots ,f$ で表し、結局その全体 $R^6$ をユークリッド変化群で互いに移りあうものを同一視して商空間をつくったわけです。つまり $G$ をユークリッド変換群としたら、$R^6/G$ です。実際あとでもう少し変更を加えましたが、最初は線形代数での対角化の知識と射影空間をつかって実際の形を見たのでした。"
      ],
      "metadata": {
        "id": "g1BRW0Hrz--L"
      }
    },
    {
      "cell_type": "markdown",
      "source": [
        " - 一般に何かを調べたいとき、何か全体をパラメータ化した多様体を**モジュライ**といいます。今の場合は $R^6/G$ です。これを幾何学的に調べようというわけです。今はたまたま線形代数の力をかりて調べられましたが、これは$R^6/G$ を幾何的に見てるわけではないですよね。そこで、代数幾何を使って、$k[a,b,c,d,e,f]^G$ からアプローチしました。今回はこの点を反省を加えながらさらに一般的な状況に対しての考察を加えていきます。"
      ],
      "metadata": {
        "id": "QGt31VeH2V6L"
      }
    },
    {
      "cell_type": "markdown",
      "source": [
        "- まず、モジュライを考える効用は、言葉は難しいと思いますが**IMG_0248.jpg, IMG_0254.jpg** などあります。少し自分で調べてみてください、さて具体的に考える際の問題として、**stable-1.jpg** で今の設定は $X$ が $R^6$ でユークリッド変換群 $G$ です。"
      ],
      "metadata": {
        "id": "rtSkhhLX4u5r"
      }
    },
    {
      "cell_type": "markdown",
      "source": [],
      "metadata": {
        "id": "5rl0sh4v9dii"
      }
    }
  ]
}