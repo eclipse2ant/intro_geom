{
  "nbformat": 4,
  "nbformat_minor": 0,
  "metadata": {
    "colab": {
      "provenance": [],
      "include_colab_link": true
    },
    "kernelspec": {
      "name": "python3",
      "display_name": "Python 3"
    },
    "language_info": {
      "name": "python"
    }
  },
  "cells": [
    {
      "cell_type": "markdown",
      "metadata": {
        "id": "view-in-github",
        "colab_type": "text"
      },
      "source": [
        "<a href=\"https://colab.research.google.com/github/eclipse2ant/intro_geom/blob/master/intro_geom_13.ipynb\" target=\"_parent\"><img src=\"https://colab.research.google.com/assets/colab-badge.svg\" alt=\"Open In Colab\"/></a>"
      ]
    },
    {
      "cell_type": "markdown",
      "source": [
        "# 13. これまでのまとめ\n"
      ],
      "metadata": {
        "id": "igsa7WcC2SC5"
      }
    },
    {
      "cell_type": "markdown",
      "source": [
        "## 13.1. モジュライ"
      ],
      "metadata": {
        "id": "-pBg4P1Lz5g7"
      }
    },
    {
      "cell_type": "markdown",
      "source": [
        "- 形とは、クラインのエルランゲンプログラムから、ユークリッド変換群での不変量だということで、２次曲面をユークリッド変換群で分類しました。その際やったことは、２次曲面を表す方程式たちをその係数 $a,b,\\cdots ,f$ で表し、結局その全体 $R^6$ をユークリッド変化群で互いに移りあうものを同一視して商空間をつくったわけです。つまり $G$ をユークリッド変換群としたら、$R^6/G$ です。実際あとでもう少し変更を加えましたが、最初は線形代数での対角化の知識と射影空間をつかって実際の形を見たのでした。"
      ],
      "metadata": {
        "id": "g1BRW0Hrz--L"
      }
    },
    {
      "cell_type": "markdown",
      "source": [
        " - 一般に何かを調べたいとき、何か全体をパラメータ化した多様体を**モジュライ**といいます。今の場合は $R^6/G$ です。これを幾何学的に調べようというわけです。今はたまたま線形代数の力をかりて調べられましたが、これは$R^6/G$ を幾何的に見てるわけではないですよね。そこで、代数幾何を使って、$k[a,b,c,d,e,f]^G$ からアプローチしました。今回はこの点を反省を加えながらさらに一般的な状況に対しての考察を加えていきます。"
      ],
      "metadata": {
        "id": "QGt31VeH2V6L"
      }
    },
    {
      "cell_type": "markdown",
      "source": [
        "- まず、モジュライを考える効用は、言葉は難しいと思いますが**IMG_0248.jpg, IMG_0254.jpg** などあります。少し自分で調べてみてください、さて具体的に考える際の問題として、**stable-1.jpg** で今の設定は $X$ が $R^6$ でユークリッド変換群 $G$ です。$f_1(x),\\cdots,f_n(x)$ が $D,E,T$ です。$X$ の $G$ による同値類を $G$ の軌道(orbit) といいます。$x \\in X$ のとき $Gx$ は $x$ の$G$ 軌道です。すべての$G$ 軌道を一点につぶしてできる幾何学的対象、これを多様体(ないしはスキーム) として扱いたい。解析的な扱いより代数的な扱いをするのは、特異点の扱いとかいろんな意味で小回りが利くということなのでしょうか。いろんな演算操作が、代数的にできて、扱いやすいということでしょうか。そこで Xの座標環 $R$ （以前の記号では$V$） を考え、$R^G$ （以前の記号では$V^G$）を考え、$f_1(x),\\cdots,f_n(x)$ をこの不変座標環 $R^G$の　生成元をとしたのでした。これが $D,E,T$ でした。今の場合はこれが生成元でしたが、一般に生成元が存在するかは、$G$ がreductive（簡約）のときは、ヒルベルトの定理によって保障されます。今の$G$ ユークリッド変換群は reducctive ではありません。半直積からできた群ですからね。あと実際は $R^\\tilde{G}$ で $A,B,C$ でした。そして、$AB=C^3$ という曲面になったのでした。**stable-1.jpg** の基本問題の１は今の場合、線形代数の対角化の話のおかげで、大丈夫そうです。しかし基本問題の２は曲面の式は出てきますが、**IMG_0202.jpg** の虚領域といった2次曲面に対応しない点を持っています。これをうまく排除して、代数多様体ろして扱えるか？ってところですね。一般の場合は **stable-2.jpg** 以降に書かれてうように、すべての $G$ 軌道が反映されていません。そこで **<font color=\"red\">安定性（stability）</font>** という概念が登場します。 stable な $X$ の元を $X^s$ とすると $X^s/G$ が $R^G$ に対応します。つまり  $X^s/G ={\\rm Spec} ~R^G$ です。これが  **<font color=\"red\">geometric quotient（幾何学的商）</font>** $X//G$ です。 \n"
      ],
      "metadata": {
        "id": "rtSkhhLX4u5r"
      }
    },
    {
      "cell_type": "markdown",
      "source": [
        "- 射影商というのもあります。それらは **stable-*.jpg** を見てください。このあたりの話は、Wiki の[geometric invariant theory](https://en.wikipedia.org/wiki/Geometric_invariant_theory ) や [Mumford の本](https://www.amazon.com/Geometric-Invariant-Ergebnisse-Mathematik-Grenzgebiete/dp/3540569634/ref=sr_1_1?crid=3N5U6LUSK4GV1&keywords=Geometric+invariant+theory&qid=1679455860&sprefix=geometric+invariant+theory%2Caps%2C272&sr=8-1)　を見てください。"
      ],
      "metadata": {
        "id": "FSFbvB4jMMSM"
      }
    },
    {
      "cell_type": "markdown",
      "source": [
        "- 最後に **IMG_0283,jpg ～ IMG_0284.jpg** を載せておきます。[参考図書](https://github.com/eclipse2ant/intro_geom/blob/master/intro_geom_reference.ipynb)の中の[4] の序文です。この文にあるように、ベクトル束のモジュライや種数g のまたWiki に出てくる代数曲線のモジュライを考える際  **<font color=\"red\">Quot スキーム</font>** や   **<font color=\"red\">Hilbert スキーム</font>** を考えて、これらの射影スキームに $PGL(N)$ で割っていく話になって、stable ベクトル束や stable 曲線 などの定義が出てきます。後者の Wiki の Deligne-Mumford の [論文](http://www.numdam.org/item/PMIHES_1969__36__75_0.pdf)は  **<font color=\"red\">Deligne-Mumford stack</font>** の論文として有名な論文です。 **IMG_0283,jpg ～ IMG_0284.jpg** では、$PGL(N)$の代わりに射影商をまたベクトル束のモジュライの例では、 **<font color=\"red\">Quot スキーム</font>** の代わりに具体的な構成法を用いてます。"
      ],
      "metadata": {
        "id": "h2gOpiTA7eTt"
      }
    }
  ]
}