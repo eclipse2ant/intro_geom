{
  "nbformat": 4,
  "nbformat_minor": 0,
  "metadata": {
    "colab": {
      "provenance": [],
      "include_colab_link": true
    },
    "kernelspec": {
      "name": "python3",
      "display_name": "Python 3"
    },
    "language_info": {
      "name": "python"
    }
  },
  "cells": [
    {
      "cell_type": "markdown",
      "metadata": {
        "id": "view-in-github",
        "colab_type": "text"
      },
      "source": [
        "<a href=\"https://colab.research.google.com/github/eclipse2ant/intro_geom/blob/master/intro_geom_3.ipynb\" target=\"_parent\"><img src=\"https://colab.research.google.com/assets/colab-badge.svg\" alt=\"Open In Colab\"/></a>"
      ]
    },
    {
      "cell_type": "markdown",
      "source": [
        "# 3. 群について \n"
      ],
      "metadata": {
        "id": "igsa7WcC2SC5"
      }
    },
    {
      "cell_type": "markdown",
      "source": [
        "- 群について、[intro_geom-3-group.pdf](https://drive.google.com/file/d/1KzsQVgSwRDx2UFxS6IBliNPm5v7TeMnF/view?usp=share_link) にまとめました。代数学の授業でも履修すると思いますが、基本的に線形代数学で学んだことのアナロジーで理解できると思いますので、頑張って理解してください、異なる部分は、半直積の関係する所だと思います。半直積自体は、この授業では、それほど使わないと思います。行列のうまい表記で合同変換群を書きますので、必要はありませんが、知識は必要です。"
      ],
      "metadata": {
        "id": "2rRDCO017NIa"
      }
    }
  ]
}