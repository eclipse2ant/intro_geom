{
  "nbformat": 4,
  "nbformat_minor": 0,
  "metadata": {
    "colab": {
      "provenance": [],
      "include_colab_link": true
    },
    "kernelspec": {
      "name": "python3",
      "display_name": "Python 3"
    },
    "language_info": {
      "name": "python"
    }
  },
  "cells": [
    {
      "cell_type": "markdown",
      "metadata": {
        "id": "view-in-github",
        "colab_type": "text"
      },
      "source": [
        "<a href=\"https://colab.research.google.com/github/eclipse2ant/intro_geom/blob/master/intro_geom_12.ipynb\" target=\"_parent\"><img src=\"https://colab.research.google.com/assets/colab-badge.svg\" alt=\"Open In Colab\"/></a>"
      ]
    },
    {
      "cell_type": "markdown",
      "source": [
        "# 12. トーリック多様体\n"
      ],
      "metadata": {
        "id": "igsa7WcC2SC5"
      }
    },
    {
      "cell_type": "markdown",
      "source": [
        "- 前回の $AB=C^3$  で定義された曲面を見たのですが、ここではもう少し簡単にして $AB=C^2$ を考えてみましょう。この場合は$A_1型$特異点です。前者は $C^2/Z_3$ という３次巡回群で割った軌道体(orbifold) になっています。"
      ],
      "metadata": {
        "id": "BGbgAIh5kjFr"
      }
    },
    {
      "cell_type": "markdown",
      "source": [
        "- ここではトーリック多様体の一般的定義は、避けて、今の例に即して考えます。一般には$N=Z^n$ ですが $n=2$ として $N=Z^2$ の場合を考えます。$N\\otimes R$ って$R^2$ のことです。ですから 平面上に $(i,j) \\in Z^2$ って格子点があるイメージです。さて **IMG_0234.jpg** を見てください。$\\sigma$ は $e_2$ と $2e_1-e_2$ で張られる錘(cone)とします。$\\sigma^{\\vee} = \\{x \\in R^2\\mid \\langle x,y\\rangle \\ge 0\\}$ ここで、$\\langle \\cdot,\\cdot \\rangle$ は $R^2$ の標準の内積を表します。普通、$\\sigma^{\\vee}$ 側の $R^2$ の格子点 $Z^2$ を $M$ で表します。$S_\\sigma = \\sigma^{\\vee} \\cap M$ で　要は $\\sigma^{\\vee}$ という **dual cone** の中の格子点全体の集合を表します。$S_\\sigma$ を生成する、つまり、$S_\\sigma$ のすべてが、それらの元の非負整数の一次結合表される、そのような生成元を求めます。今の場合は $e_1^{*}, ~e_1^{*}+e_2^{*},~e_1^{*}+2e_2^{*}$ となります。$(1,0),~(1,1),~(1,2)$ ですから、それらを変数 $X, ~Y$ の指数として,  $X, ~XY, ~XY^2$  で生成される多項式環 $C[X, ~XY, ~XY^2]$ を $C[S_\\sigma]$ とすると<br><br>\n",
        "$$\n",
        "C[S_\\sigma] = ~C[X, ~XY, ~XY^2] = ~C[U,V,W]/(V^2 - UW)$$\n",
        "<br>となります。\n"
      ],
      "metadata": {
        "id": "eaQYaN3t5rE-"
      }
    },
    {
      "cell_type": "markdown",
      "source": [
        "- さて、トーリックには別の実現方法があってそれが、商空間による方法です。**IMG_0236.jpg** に書かれています。$\\phi$ の定義は **IMG_0235.jpg** に書かれてます。$S$ は 共通の cone の辺になっていないものの集合です。同じ方法で　**IMG_0234.jpg** の場合を計算したのが **[intro_geom-12-toric.pdf](https://drive.google.com/file/d/185oJc6aWolJ_EQUe6utiqmkLRluQ3ZJ4/view?usp=share_link)** です。"
      ],
      "metadata": {
        "id": "8Fn6IPR5R7hF"
      }
    },
    {
      "cell_type": "markdown",
      "source": [
        "\n",
        "- cone $\\sigma$ が　nonsingular（非特異）とは、$\\sigma$ の生成元が $\\sigma ~\\cap M$ の$Z_{\\geq0}$ -基底 になっているときを言います。fan(扇) とはcone が張り合わされたものですが、fan が非特異とはすべてのcone が非特異なことです。**IMG_0237.jpg** のよ\n",
        "うに辺を追加して非特異にする操作が特異点解消で線を入れる操作自体が **blow up** になっています。この時 もとの $A_1$ は **IMG_0234.jpg** に書かれてる図、ただしこれは実数部分だけの記述ですが、このしぼんで点になってるところが **[intro_geom-12-toric.pdf](https://drive.google.com/file/d/185oJc6aWolJ_EQUe6utiqmkLRluQ3ZJ4/view?usp=share_link)** に書いたように膨らんで\n",
        "滑らかになり、**IMG_0237.jpg** に書かれてるように $P_1(C)$ の cotangent bundle(余接束) $T^{*}(P_1(C))$ になります。要は$P_1(C)$ の各点に複素直線 $C$ が張り付いたもの 実数部分では $P_1(R)$ に$R$ が張り付いて、図のようになる！！ この点が膨らんだ部分が **blow up** で例外曲線。"
      ],
      "metadata": {
        "id": "-aM3YqiVnW9i"
      }
    },
    {
      "cell_type": "markdown",
      "source": [
        "- **IMG_0239.jpg ～ IMG_0240.jpg**  は$A_n$ の場合の別の表示でこの場合は $C[S_\\sigma]$ は $V^{n+1}=UW$ になる。"
      ],
      "metadata": {
        "id": "fb-DjqC6yNOR"
      }
    }
  ]
}