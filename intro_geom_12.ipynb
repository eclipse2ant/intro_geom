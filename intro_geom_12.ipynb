{
  "nbformat": 4,
  "nbformat_minor": 0,
  "metadata": {
    "colab": {
      "provenance": [],
      "include_colab_link": true
    },
    "kernelspec": {
      "name": "python3",
      "display_name": "Python 3"
    },
    "language_info": {
      "name": "python"
    }
  },
  "cells": [
    {
      "cell_type": "markdown",
      "metadata": {
        "id": "view-in-github",
        "colab_type": "text"
      },
      "source": [
        "<a href=\"https://colab.research.google.com/github/eclipse2ant/intro_geom/blob/master/intro_geom_12.ipynb\" target=\"_parent\"><img src=\"https://colab.research.google.com/assets/colab-badge.svg\" alt=\"Open In Colab\"/></a>"
      ]
    },
    {
      "cell_type": "markdown",
      "source": [
        "# 12. トーリック多様体\n"
      ],
      "metadata": {
        "id": "igsa7WcC2SC5"
      }
    },
    {
      "cell_type": "markdown",
      "source": [
        "- 前回の $AB=C^3$  で定義された曲面を見たいのですが、ここではもう少し簡単にして $AB=C^2$ を考えてみましょう。この場合は$A_1型$特異点です。前者は $C^2/Z_3 という３次巡回群で割った軌道体$"
      ],
      "metadata": {
        "id": "BGbgAIh5kjFr"
      }
    },
    {
      "cell_type": "markdown",
      "source": [
        "## 11.1. ２次曲面の分類の続き"
      ],
      "metadata": {
        "id": "HQxABITYbmij"
      }
    },
    {
      "cell_type": "markdown",
      "source": [
        "- さて、これで、やっと準備が整いました。２次曲面の分類は、ユークリッド変換群だけでは、もし$R^2$の部分集合での議論ならば、それで\"形\"を見たことになりますが、私たちはそれの入れ物である方程式に群を作用させて見いています。この場合方程式はパラ、メータ行列のスカラー倍は方程式をスカラー倍すだけで、方程式は変わらないのです。つまり、方程式で見る場合もう少し対称性を増やさないといけない。それが**IMG_0201.jpg** の$\\tilde{G}$ です $V^{\\tilde{G}}=k[A,B,C]$ で $A,B,C$ で生成されますが、$A,B,C$ は代数的に独立でなくて` $AB=C^3$ という関係があって、この方程式が表す曲面が求めるものになります。"
      ],
      "metadata": {
        "id": "3Vc5TccHb4xr"
      }
    },
    {
      "cell_type": "markdown",
      "source": [
        "- $A_2$型 有理２重点の特異点、いわゆる$A_2$型特異点が出てきます。$A_2$型というのは、ディンキン図形またはカルタン行列で分類される、単純リー環の分類からくるもので、[デュ・バル特異点（単純２重特異点）](https://ja.wikipedia.org/wiki/%E3%83%87%E3%83%A5%E3%83%BB%E3%83%90%E3%83%AB%E7%89%B9%E7%95%B0%E7%82%B9)という。$A_2$ の由来は、ブローアップして特異点解消すると二本の例外因子（例外曲線、実は$P_1(C)$）がでる、この二本の例外曲線を $E_1,E_2$ としてその交点数 $E_i\\cdot E_j$ でできる行列が $A_2$型 リー環　（実際は $sl(3,C)$(トレースゼロの３次の正方行列全体で交換子がリーブラケット )のカルタン行列に等しい（つまりディンキン図形がA_2)"
      ],
      "metadata": {
        "id": "3TNOo56qkDAW"
      }
    }
  ]
}