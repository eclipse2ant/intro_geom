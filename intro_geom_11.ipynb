{
  "nbformat": 4,
  "nbformat_minor": 0,
  "metadata": {
    "colab": {
      "provenance": [],
      "include_colab_link": true
    },
    "kernelspec": {
      "name": "python3",
      "display_name": "Python 3"
    },
    "language_info": {
      "name": "python"
    }
  },
  "cells": [
    {
      "cell_type": "markdown",
      "metadata": {
        "id": "view-in-github",
        "colab_type": "text"
      },
      "source": [
        "<a href=\"https://colab.research.google.com/github/eclipse2ant/intro_geom/blob/master/intro_geom_11.ipynb\" target=\"_parent\"><img src=\"https://colab.research.google.com/assets/colab-badge.svg\" alt=\"Open In Colab\"/></a>"
      ]
    },
    {
      "cell_type": "markdown",
      "source": [
        "# 11. Blow up\n"
      ],
      "metadata": {
        "id": "igsa7WcC2SC5"
      }
    },
    {
      "cell_type": "markdown",
      "source": [
        "- せっかく射影空間を扱ったので、次の話題にも関係するブローアップについて触れておきましょう、ここでは原点のブローアップについて、**IMG_0230.img ～ IMG_0233.jpg** を見てください。二つの本から引用しています。**IMG_0232,img** はグラフを用いてますし、**IMG_0230.jpg** の方は、座標環でみてます。そこでわかることは普通の射影空の時の定義の係数の部分が座標環に代わり、ブローアップするイデアルの生成元と多項式の変数に関係を入れることで、ちょうど原点のところを射影空間で膨らました形になってることです。ただこれと特異点解消がどう関係するかは、いろんな言葉が必要になってきてＭ、ここではやめときます、スキームの定義、イデアル層の定義、層の順像や逆像やpush-forward や pull back など また特異点の定義とかもあるいますね。devisor(因子）や直線束ないしはinvertible sheaf(可逆層) とかあと例外因子も重要です。"
      ],
      "metadata": {
        "id": "BGbgAIh5kjFr"
      }
    },
    {
      "cell_type": "markdown",
      "source": [
        "## 11.1. ２次曲面の分類の続き"
      ],
      "metadata": {
        "id": "HQxABITYbmij"
      }
    },
    {
      "cell_type": "markdown",
      "source": [
        "- "
      ],
      "metadata": {
        "id": "3Vc5TccHb4xr"
      }
    }
  ]
}