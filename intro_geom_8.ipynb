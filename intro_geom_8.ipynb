{
  "nbformat": 4,
  "nbformat_minor": 0,
  "metadata": {
    "colab": {
      "provenance": [],
      "include_colab_link": true
    },
    "kernelspec": {
      "name": "python3",
      "display_name": "Python 3"
    },
    "language_info": {
      "name": "python"
    }
  },
  "cells": [
    {
      "cell_type": "markdown",
      "metadata": {
        "id": "view-in-github",
        "colab_type": "text"
      },
      "source": [
        "<a href=\"https://colab.research.google.com/github/eclipse2ant/intro_geom/blob/master/intro_geom_8.ipynb\" target=\"_parent\"><img src=\"https://colab.research.google.com/assets/colab-badge.svg\" alt=\"Open In Colab\"/></a>"
      ]
    },
    {
      "cell_type": "markdown",
      "source": [
        "# 8. 代数幾何的アプローチへ\n"
      ],
      "metadata": {
        "id": "igsa7WcC2SC5"
      }
    },
    {
      "cell_type": "markdown",
      "source": [
        "- さて今までは、どちらかというと解析的なアプローチをとってきました。まず平面上のユークリッド変換群の作用を定義して、実際、2次曲線に作用させるので、2次曲線の係数のパラメータの空間に作用させて、その分類ををしました。パラメータ空間は$R^9$ だったわけです。"
      ],
      "metadata": {
        "id": "BGbgAIh5kjFr"
      }
    },
    {
      "cell_type": "markdown",
      "source": [
        "- この $R^9$ を見るのではなく　この上で定義される多項式の全体 $k[a,b,\\cdots ,f]$ を考えます。ここで$k$ はただ体としておきましょう。もともとは$R$ なんでしょうけど、この本の議論だと $C$ だったり、もともと[3],[4]の本の中では導入的な内容なので、結構あいまいなのです。 $V=k[a,b,\\cdots ,f]$ とこの多項式環をおきましょう。体とか環の定義は自分で調べてください。そして多項式の変数に **IMG_0201.jpg** の(2)でのユークリッド変換群を作用を考えます。この変数の変換で不変な多項式を不変多項式といい $G$ をユークリッド変換群としたとき $V^G$ で表し、$G$-不変な多項式環といいます。ここで **IMG_0201.jpg** の命題1か**IMG_0125-3.jpg**の**Proposition 1.1** で $V^G=k[D,E,T]$ になります。\n"
      ],
      "metadata": {
        "id": "0QGZNeX5yGPl"
      }
    },
    {
      "cell_type": "markdown",
      "source": [
        "- $V, V^G$ は可換環ですが同時に係数体の$k$の作用もあるので、$k$-線形空間でかつ積が入った代数構造とも思えるわけで、これは $k$上のAlgebra(代数)といいます。$V^G$ が、$D,E,T$ で生成されるというのは、 $k[X,Y,Z]$ から　$V^G$ を$\\phi$ として $F(X,Y,Z) \\in K[X,Y,Z] \\mapsto F(D,E,T)$ が全射ということ、この段階では、$I=Ker~ \\phi$ とすると $V^G \\cong k[X,Y,Z]/I$ で、$I$ は  $k[X,Y,Z]$ がネーター環なのでイデアルは有限生成で、結局、$X,Y,Z$ の多項式のいくつかで生成されることになり、それらの共通零点集合が求めるパラメータ空間になります。今は代数的に独立なので $I=0$ なので 結局  $V^G=k[D,E,T]$  となってます。$D,E,T$ は 1,2行と列でできる小行列の行列式とトレース、だからこの小行列の固有値の積と和であとの$D$は全体の行列式なので、全体の行列の固有値の積、注意して欲しいのは小行列の固有値と全体の行列の固有値は別ものです。全体が正則で全体の行列の固有値は０にはならないけど、小行列の固有値は0になりえます。この場合、放物線に対応します。\n"
      ],
      "metadata": {
        "id": "ATK4vtLEBVWX"
      }
    },
    {
      "cell_type": "markdown",
      "source": [
        "- 一度ここで止めますが、お判りでしょうか代数幾何的アプローチは分類される空間上で定義される正則関数（平面の場合は多項式）全体のなす環（座標環）を考え、その座標環に群$G$ を作用させ、不変なものを取り出しその定義された不変な環から調べようとします。"
      ],
      "metadata": {
        "id": "K-rKLCB3HpZ2"
      }
    }
  ]
}