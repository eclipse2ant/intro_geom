{
  "nbformat": 4,
  "nbformat_minor": 0,
  "metadata": {
    "colab": {
      "provenance": [],
      "include_colab_link": true
    },
    "kernelspec": {
      "name": "python3",
      "display_name": "Python 3"
    },
    "language_info": {
      "name": "python"
    }
  },
  "cells": [
    {
      "cell_type": "markdown",
      "metadata": {
        "id": "view-in-github",
        "colab_type": "text"
      },
      "source": [
        "<a href=\"https://colab.research.google.com/github/eclipse2ant/intro_geom/blob/master/intro_geom_8.ipynb\" target=\"_parent\"><img src=\"https://colab.research.google.com/assets/colab-badge.svg\" alt=\"Open In Colab\"/></a>"
      ]
    },
    {
      "cell_type": "markdown",
      "source": [
        "# 8. 代数幾何的アプローチへ\n"
      ],
      "metadata": {
        "id": "igsa7WcC2SC5"
      }
    },
    {
      "cell_type": "markdown",
      "source": [
        "- さて今までは、どちらかというと解析的なアプローチをとってきました。まず平面上のユークリッド変換群の作用を定義して、実際、2次曲面に作用させるので、2次曲面の係数のパラメータの空間に作用させて、その分類ををしました。パラメータ空間は$R^9$ だったわけです。"
      ],
      "metadata": {
        "id": "BGbgAIh5kjFr"
      }
    },
    {
      "cell_type": "markdown",
      "source": [
        "- この $R^9$ を見るのではなく　この上で定義される多項式の全体 $k[a,b,\\cdots ,f]$ を考えます。ここで$k$ はただ体としておきましょう。もともとは$R$ なんでしょうけど、この本の議論だと $C$ だったり、もともと[3],[4]の本の中では導入的な内容なので、結構あいまいなのです。 $V=k[a,b,\\cdots ,f]$ とこの多項式環をおきましょう。体とか環の定義は自分で調べてください。そいて多項式の変数に **IMG_0201.jpg** の(2)でのユークリッド変換群を作用を考えます。この変数の変換で不変な多項式を不変多項式といい $D$ をユークリッド変換群としたとき $V^G$ で表し、$G$-不変な多項式環といいます。ここで **IMG_0201.jpg** の命題1 \n"
      ],
      "metadata": {
        "id": "0QGZNeX5yGPl"
      }
    }
  ]
}