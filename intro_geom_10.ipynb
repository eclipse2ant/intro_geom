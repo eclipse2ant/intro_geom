{
  "nbformat": 4,
  "nbformat_minor": 0,
  "metadata": {
    "colab": {
      "provenance": [],
      "include_colab_link": true
    },
    "kernelspec": {
      "name": "python3",
      "display_name": "Python 3"
    },
    "language_info": {
      "name": "python"
    }
  },
  "cells": [
    {
      "cell_type": "markdown",
      "metadata": {
        "id": "view-in-github",
        "colab_type": "text"
      },
      "source": [
        "<a href=\"https://colab.research.google.com/github/eclipse2ant/intro_geom/blob/master/intro_geom_10.ipynb\" target=\"_parent\"><img src=\"https://colab.research.google.com/assets/colab-badge.svg\" alt=\"Open In Colab\"/></a>"
      ]
    },
    {
      "cell_type": "markdown",
      "source": [
        "# 10. 射影スキーム\n"
      ],
      "metadata": {
        "id": "igsa7WcC2SC5"
      }
    },
    {
      "cell_type": "markdown",
      "source": [
        "- ２次曲面の分類について。射影空間を使って、射影変換を使うことで、背後にあるものが見えすっきりしまたね。ここでは射影空間も代数幾何的に見ていきましょう。ただしこれは、説明するのは大変です。そこで、**IMG_0227,jpg** で学んでください。ここで、重要なことは、従来の張り合わせによる方法と次数付き環 $A$から ${\\rm Proj} ~A$ として、構成する方法です。多項式環では次数が重要な意味を持ち、だからこそ射影曲線では斉次多項式が出てきたわけです。"
      ],
      "metadata": {
        "id": "BGbgAIh5kjFr"
      }
    },
    {
      "cell_type": "markdown",
      "source": [
        "- 代数幾何の本をいくつか挙げておきます。<br>[1] [代数多様体論 (共立講座 21世紀の数学) 川又 雄二郎著 共立出版](https://www.amazon.co.jp/%E4%BB%A3%E6%95%B0%E5%A4%9A%E6%A7%98%E4%BD%93%E8%AB%96-%E5%85%B1%E7%AB%8B%E8%AC%9B%E5%BA%A7-21%E4%B8%96%E7%B4%80%E3%81%AE%E6%95%B0%E5%AD%A6-%E5%B7%9D%E5%8F%88-%E9%9B%84%E4%BA%8C%E9%83%8E/dp/4320015711/ref=sr_1_1?__mk_ja_JP=%E3%82%AB%E3%82%BF%E3%82%AB%E3%83%8A&keywords=%E4%BB%A3%E6%95%B0%E5%A4%9A%E6%A7%98%E4%BD%93&qid=1679038098&sr=8-1)<br>[2] [特異点入門 改訂版 (現代数学シリーズ)  石井 志保子 (著) 丸善出版](https://www.amazon.co.jp/%E7%89%B9%E7%95%B0%E7%82%B9%E5%85%A5%E9%96%80-%E6%94%B9%E8%A8%82%E7%89%88-%E7%8F%BE%E4%BB%A3%E6%95%B0%E5%AD%A6%E3%82%B7%E3%83%AA%E3%83%BC%E3%82%BA-%E7%9F%B3%E4%BA%95-%E5%BF%97%E4%BF%9D%E5%AD%90/dp/4621304755/ref=sr_1_5?__mk_ja_JP=%E3%82%AB%E3%82%BF%E3%82%AB%E3%83%8A&crid=MM3BF5IZXKM5&keywords=%E7%89%B9%E7%95%B0%E7%82%B9&qid=1679038309&sprefix=%E7%89%B9%E7%95%B0%E7%82%B9%2Caps%2C180&sr=8-5)<br>[3] [Algebraic Geometry (Graduate Texts in Mathematics, 52)  Robin Hartshorne  Springer](https://www.amazon.com/Algebraic-Geometry-Graduate-Texts-Mathematics/dp/0387902449/ref=sr_1_3?crid=1JENS06IVBIF1&keywords=Algebraic+geometry&qid=1679038558&s=books&sprefix=algebraic+geometry%2Cstripbooks-intl-ship%2C251&sr=1-3)<br>[4] 現在入手困難は 上野さんの岩波の  [代数幾何](https://www.amazon.co.jp/%E4%BB%A3%E6%95%B0%E5%B9%BE%E4%BD%95-%E4%B8%8A%E9%87%8E-%E5%81%A5%E7%88%BE/dp/4000056492/ref=sr_1_4?__mk_ja_JP=%E3%82%AB%E3%82%BF%E3%82%AB%E3%83%8A&crid=3UI3JU7RTJI57&keywords=%E4%BB%A3%E6%95%B0%E5%B9%BE%E4%BD%95%E5%AD%A6+%E4%B8%8A%E9%87%8E&qid=1679038826&sprefix=%E4%BB%A3%E6%95%B0%E5%B9%BE%E4%BD%95+%E4%B8%8A%E9%87%8E%2Caps%2C170&sr=8-4) です。<br>標準的には [3] ですが、結構難しい、これを補うのは[4] なのですが、図書館ぐらいにシリーズで1 2 3 って分かれたのがあるかな。\n"
      ],
      "metadata": {
        "id": "0QGZNeX5yGPl"
      }
    }
  ]
}