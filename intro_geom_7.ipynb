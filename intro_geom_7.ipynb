{
  "nbformat": 4,
  "nbformat_minor": 0,
  "metadata": {
    "colab": {
      "provenance": [],
      "include_colab_link": true
    },
    "kernelspec": {
      "name": "python3",
      "display_name": "Python 3"
    },
    "language_info": {
      "name": "python"
    }
  },
  "cells": [
    {
      "cell_type": "markdown",
      "metadata": {
        "id": "view-in-github",
        "colab_type": "text"
      },
      "source": [
        "<a href=\"https://colab.research.google.com/github/eclipse2ant/intro_geom/blob/master/intro_geom_7.ipynb\" target=\"_parent\"><img src=\"https://colab.research.google.com/assets/colab-badge.svg\" alt=\"Open In Colab\"/></a>"
      ]
    },
    {
      "cell_type": "markdown",
      "source": [
        "# ７. 射影変換、円錐曲線、離心率\n"
      ],
      "metadata": {
        "id": "igsa7WcC2SC5"
      }
    },
    {
      "cell_type": "markdown",
      "source": [
        "- さて今回は、円錐曲線の話になります。例えば、Webで検索すると、[円錐曲線の定義と離心率](http://aozoragakuen.sakura.ne.jp/taiwa/taiwaNch03/quadra/node3.html)のようなサイトが見つかります。ほかにもいろいろあります。また放送大学も授業で、「力と運動の物理」のケプラーとか角運動量のところで、離心率がでてきます。離心率周辺は、あまり触れたくない感じですね。"
      ],
      "metadata": {
        "id": "BGbgAIh5kjFr"
      }
    },
    {
      "cell_type": "markdown",
      "source": [
        "- 射影幾何の立場から、これらの話を見ていきましょう。まずそのためには射影空間について、しっかり見ておきましょう。**[intro_geom-7_projective-dpace-2,pdf](https://drive.google.com/file/d/1HgAPmNh23Jw_ANASmNBASAtpoCPjmESX/view?usp=share_link)** を見てください。今回は局所座標 $ϕ_i$ もしっかり書いておきました。こういう局所座標が存在する空間を多様体といい幾何学B でしっかり学びます。"
      ],
      "metadata": {
        "id": "7J-gjP77_n1v"
      }
    },
    {
      "cell_type": "markdown",
      "source": [
        "- 射影曲線を分類したいのですが、**IMG_0201.jpg** の(2) の$X$ による変換で今度は$X$ を3次の正則行列に取ってみましょう。$GL(3,R)$ を3次の正則行列全体の集合とすると行列の積に関して群をなします。この群を3次の実一般線形群といいます。ユークリッド変換群は$GL(3,R)$の部分群になります。せっかく集合と位相で位相空間を学んでるので、$Mat(3,R)$ を　3次の実正方行列全体の集合とすると、これは$R^9$ と見なせますから、同一視すると $R^9$ から位相が入ります。まず $det$ つまり行列式は、$M(3,R)$から$R$ への連続写像で、したがって $det^{-1}(R-\\{0\\} = GL(3,R)$  だから $GL(3,R)$ は、$Mat(3,R)$ の開集合になります。また　行列の積および逆行列をとる写像は、それぞれ、$GL(3,R) \\times GL(3,R) \\rightarrow GL(3,R), ~GL(3,R) \\rightarrow GL(3,R)$ の連続写像になります。こういう群を位相群といいます。さらに今は $R^9$ の開集合ですから、そのまま $R^9$ の微積か使えて、これらの写像は微分可能なり、リー群になっています。ただし今後の議論は、解析的な議論ではなく代数幾何的な議論に移行するので、これの位相や多様体構造は使わず、今後説明する、ザリスキー位相や代数群の話になっていきます。\n"
      ],
      "metadata": {
        "id": "ID5ihre_Cf1w"
      }
    },
    {
      "cell_type": "markdown",
      "source": [
        "- 話が脱線しちゃいましたが、要は3次の正則行列で分類するということは、$GL(3,R)$ という3次の実一般線形群で不変な性質を見まししょうということです。これが射影変換といわれるものですが、その意味付けはあとでします。まずは分類してみましょう。これも線形数学II でやりますが、シルベスターの慣性律といいうものがあります。まず、対称行列ですから、直交行列で対角化できます。この時は固有値が出てきます。さらに、符号はそのままで、結局 $1$ か $-1$ か $0$ になります。今は $X$ は正則つまり2j次曲線は非退化だと仮定しましょう。そうすると０はなくなりますから。$1$か$-1$ ですが結局　\"$=0$\"　という方程式ですから、$(1,1.1), (-1,-1.-1) $ は　同じ式でかつ空集合でしかないから、除外 $(1,1.-1), (-1,-1.1) $ は同じ方程式で　結局これ一つになります。"
      ],
      "metadata": {
        "id": "1XFs-irMI7v2"
      }
    },
    {
      "cell_type": "markdown",
      "source": [
        "- さてさて、問題はここからで どの変数を1 とするかで、円になったり、双曲線になったりするわけで、**[intro_geom-7_projective-dpace-2,pdf](https://drive.google.com/file/d/1HgAPmNh23Jw_ANASmNBASAtpoCPjmESX/view?usp=share_link)** の(a)　のように回転させれば、三つすべて出てきます。実際、回転角で離心率は表せると思います。結局、平面上の2次曲線は、射影空間上の2次曲線が無限のふちとどう交わるかで形が変わってただけです。"
      ],
      "metadata": {
        "id": "0mLqaocrX5sO"
      }
    },
    {
      "cell_type": "markdown",
      "source": [
        "- **IMG_0203.jpg** の図 1.4 も同じことを言っています。ただしここに書かれてる離心率の話はどうしてこんな式が出てくるかは、今のところく私はわかりません"
      ],
      "metadata": {
        "id": "kvldW3bedClF"
      }
    },
    {
      "cell_type": "markdown",
      "source": [
        "- 射影変換は $GL(3,R) \\times P_2(R) \\longrightarrow P_2(R)$ で $(g,[x]) \\in GL(3,R) \\times P_2(R)$ に対し、$g\\cdot [x]=[g\\cdot x] $  で定義します。線形変換なのでスカラー倍は外に出るので定義として well-defined なのはすぐわかると思います。"
      ],
      "metadata": {
        "id": "LCMyj3SQfPm_"
      }
    }
  ]
}